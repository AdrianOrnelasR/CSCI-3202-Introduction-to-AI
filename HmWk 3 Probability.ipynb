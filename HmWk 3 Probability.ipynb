{
 "cells": [
  {
   "cell_type": "markdown",
   "metadata": {},
   "source": [
    "---\n",
    "\n",
    "# CSCI 3202, Fall 2022\n",
    "# Homework 3\n",
    "# Due: Friday September 16, 2022 at 6:00 PM\n",
    "\n",
    "### Note: There will be an extra-credit portion to this assigment posted on Tuesday that will cover Q-Learning. \n",
    "<br> \n",
    "\n",
    "### Your name: Adrian Ornelas Ruvalcaba\n",
    "\n",
    "<br> "
   ]
  },
  {
   "cell_type": "markdown",
   "metadata": {},
   "source": [
    "---\n",
    "\n",
    "There is no coding in this assignment. Type your answers in a Markdown cell using Latex formatting commands. If you're unfamiliar with Latex, it's used for formatting equations and other mathematical content. Here are a few examples that you might find useful.\n",
    "### Displaying an equation:\n",
    "$$P(a | b ) = 0.5$$\n",
    "### Displaying a fraction:\n",
    "$$ \\frac{a}{b}$$\n",
    "### Nested fractions:\n",
    "$$ \\frac{a}{\\frac{c}{b}}$$\n",
    "### Adding fractions:\n",
    "$$ \\frac{a}{b} + \\frac{d}{c}$$\n",
    "\n",
    "When you type your answers for each of the questions in this assignment, we need to see that you know how to set up the problem, including values assigned to individual components of the problem. We don't need to see every step of your calculations, just your final computed answer.\n",
    "\n",
    "For more information about how to use Latex, here is a great reference: https://ashki23.github.io/markdown-latex.html"
   ]
  },
  {
   "cell_type": "markdown",
   "metadata": {},
   "source": [
    "### 1. Playing Card Probabilities\n",
    "\n",
    "Consider a standard deck of playing cards and answer the following questions:"
   ]
  },
  {
   "cell_type": "markdown",
   "metadata": {},
   "source": [
    "### a. What is the probability of drawing a Jack of any suit?"
   ]
  },
  {
   "attachments": {},
   "cell_type": "markdown",
   "metadata": {},
   "source": [
    "$$ \\frac{4}{52} = \\frac{1}{13}$$"
   ]
  },
  {
   "cell_type": "markdown",
   "metadata": {},
   "source": [
    "### b. What is the probability of drawing a card that is of a black suit?"
   ]
  },
  {
   "attachments": {},
   "cell_type": "markdown",
   "metadata": {},
   "source": [
    "$$ \\frac{26}{52} = \\frac{1}{2}$$"
   ]
  },
  {
   "cell_type": "markdown",
   "metadata": {},
   "source": [
    "### c. What is the probability of drawing a Jack OR a card of a black suit?"
   ]
  },
  {
   "attachments": {},
   "cell_type": "markdown",
   "metadata": {},
   "source": [
    "$$\n",
    "\\begin{align*}\n",
    "    P(\\text{black suit or jack}) &= \\frac{24+4}{52} \\\\\n",
    "        &= \\frac{7}{13}\n",
    "\\end{align*}\n",
    "$$"
   ]
  },
  {
   "cell_type": "markdown",
   "metadata": {},
   "source": [
    "### d. Describe in your own words what a joint probability is."
   ]
  },
  {
   "attachments": {},
   "cell_type": "markdown",
   "metadata": {},
   "source": [
    "`Joint Probability is when two independent probabilitie variables are to be considered in the same probability space.`"
   ]
  },
  {
   "cell_type": "markdown",
   "metadata": {},
   "source": [
    "### 2. Rolling Dice\n",
    "\n",
    "Consider two die with 6 equally weighted sides."
   ]
  },
  {
   "cell_type": "markdown",
   "metadata": {},
   "source": [
    "### a. What is the probability of a dice roll summing to 7?"
   ]
  },
  {
   "attachments": {},
   "cell_type": "markdown",
   "metadata": {},
   "source": [
    "$$\n",
    "\\begin{align*}\n",
    "    P(\\text{sum of 7}) &= \\frac{6}{36} \\\\\n",
    "        &= \\frac{1}{6}\n",
    "\\end{align*}\n",
    "$$\n",
    "`Dice have numbers from 1 though 6 so their are 36 possible outcomes for a given roll(6*6=36). Based on this, their are 6 ways to get the number 7 from two dice being rolled: (1,6)(2,5)(3,4)(4,3)(5,2)(6,1).`"
   ]
  },
  {
   "cell_type": "markdown",
   "metadata": {},
   "source": [
    "### b. What is the probability of a dice roll summing to an even number 10 times in a row?"
   ]
  },
  {
   "attachments": {},
   "cell_type": "markdown",
   "metadata": {},
   "source": [
    "\n",
    "$$\n",
    "\\begin{align*}\n",
    "    P(\\text{even sum}) &= \\frac{18}{36} \\\\\n",
    "        &= \\frac{1}{2}\n",
    "\\end{align*}\n",
    "$$\n",
    "\n",
    "$$\n",
    "\\begin{align*}\n",
    "    P(\\text{10 even sums}) &= (P(\\text{even sum}))^{10}\\\\\n",
    "        &= \\frac{1}{1024}\n",
    "\\end{align*}\n",
    "$$\n",
    "\n",
    "`Just as the previous problem stated, their are 36 possile outcomes with 2 dice being rolled, and to get an even number is 18 possible ways: (1, 1),(6, 6),(1, 3),(1, 5),(2, 2),(2, 4),(2, 6),(3, 1),(3, 3),(3, 5),(4, 2),(4, 4),(4, 6),(5, 1),(5, 3),(5, 5),(6, 2),(6, 4). We then have to predict it 10 times in a row which would be to the power of 10.  `"
   ]
  },
  {
   "cell_type": "markdown",
   "metadata": {},
   "source": [
    "### c. Let's say that you roll one dice at a time. Your first die comes up as an even number. What is the probability that your dice will sum to 7 after you roll the second die?"
   ]
  },
  {
   "attachments": {},
   "cell_type": "markdown",
   "metadata": {},
   "source": [
    "$$\n",
    "\\begin{align*}\n",
    "    P(\\text{sum to $7$ | even roll}) &= \\frac{1}{6} \n",
    "\\end{align*}\n",
    "$$\n",
    "\n",
    "`If the first roll was even, we must of gotten: (2,4,6). Given we have to sum to 7, their seems to only be 1 way to sum to 7 given each possible even roll. If rolled 2 -> must get 5, if rolled 4 -> must get 3, if rolled 6 -> must get 1.`"
   ]
  },
  {
   "cell_type": "markdown",
   "metadata": {},
   "source": [
    "### 3. Conditional Probability\n",
    "\n",
    "A team of data scientists have been working on the very important task of training a classification model to predict whether an item of clothing is fashionable. They are collaborating with a team of fashion experts who provide the ground truth label for the training data set: they tell the scientists which clothing is fashionable. There are a total of 1822 photos of clothing in the data set, of which 309 are fashionable. The machine learning system correctly predicted 197 items of clothing as fashionable and 1491 items of clothing as unfashionable. Unfortunately, the system was imperfect, and incorrectly classified 22 items of unfashionable clothing as fashionable, and 112 items fashionable items as unfashionable. \n",
    "\n",
    "\n",
    "|                       | True_Fashion | True_Unfashion |\n",
    "| -----------           | -----------  | -----------    |\n",
    "| <b>Pred_Fashion</b>   | 197          | 22             |\n",
    "| <b>Pred_Unfashion</b> | 112          | 1491           |\n",
    "| <b>Total</b>          | 309          | 1513           |"
   ]
  },
  {
   "cell_type": "markdown",
   "metadata": {
    "tags": []
   },
   "source": [
    "#### (a)\n",
    "If a photo is actually fashionable, what is the chance the ML classifier correctly identified the photo as being fashionable?"
   ]
  },
  {
   "attachments": {},
   "cell_type": "markdown",
   "metadata": {},
   "source": [
    "$$\n",
    "\\begin{align*}\n",
    "    P(\\text{prediction fashion | true fashion}) &= \\frac{\\text{probability of this state}}{\\text{all cases where it is fashionable}} \\\\\n",
    "        &= \\frac{197}{309} \\\\\n",
    "\\end{align*}\n",
    "$$"
   ]
  },
  {
   "cell_type": "markdown",
   "metadata": {},
   "source": [
    "#### (b)\n",
    "We sample a photo from the data set and learn the ML algorithm predicted this photo was not fashionable. What is the probability that it was incorrect and the photo is actually fashionable?"
   ]
  },
  {
   "attachments": {},
   "cell_type": "markdown",
   "metadata": {},
   "source": [
    "$$\n",
    "\\begin{align*}\n",
    "    P(\\text{is fashion | prediction not fashion}) &= \\frac{\\text{probability of this state}}{\\text{all cases where it is predicted not fashionable}} \\\\\n",
    "        &= \\frac{112}{112+1491} \\\\\n",
    "        &= \\frac{16}{229} \\\\\n",
    "\\end{align*}\n",
    "$$"
   ]
  },
  {
   "cell_type": "markdown",
   "metadata": {},
   "source": [
    "#### (c)\n",
    "What is the difference between a <i>joint probability</i> and a <i>marginal probability</i>?"
   ]
  },
  {
   "attachments": {},
   "cell_type": "markdown",
   "metadata": {},
   "source": [
    "`The difference between join and marginal probability is that joint probability is the probability of two events happening as the same time, while marginal probabiliy, is the probability of an event happening based on another veriables outcoms. For Example, Marginal probabilites are like row total/ total or column total / total. while joint probability is using when you want a probability of one event AND some other event.`\n"
   ]
  },
  {
   "cell_type": "markdown",
   "metadata": {},
   "source": [
    "#### (d)\n",
    "What is the probability that the machine learning system predicted that an item of clothing was fashionable? Is this a joint or a marginal probability?"
   ]
  },
  {
   "attachments": {},
   "cell_type": "markdown",
   "metadata": {},
   "source": [
    "$$\n",
    "\\begin{align*}\n",
    "    P(\\text{prediction fashion}) &= \\frac{\\text{cases of predicting fashion}}{\\text{all possible cases of prediction}} \\\\\n",
    "        &= \\frac{197+22}{309+1513} \\\\\n",
    "        &=  \\frac{219}{1822}\\\\\n",
    "\\end{align*}\n",
    "$$\n",
    "\n",
    "`This would be Marginal Probability because it was row total of 219 over the total which was 1822`"
   ]
  },
  {
   "cell_type": "markdown",
   "metadata": {},
   "source": [
    "### 4. Bayes' Rule"
   ]
  },
  {
   "cell_type": "markdown",
   "metadata": {},
   "source": [
    "### (a). \n",
    "There are two boxes. Box 1 contains three red and five white balls. Box 2 contains two red and five white balls. A box is chosen at random: P(box=1) = P(box=2) = 0.5 and a ball chosen from this box turns out to be red. What is the probability that the red ball came from box 1? (i.e., P(box=1 | ball=red)=???)"
   ]
  },
  {
   "attachments": {},
   "cell_type": "markdown",
   "metadata": {},
   "source": [
    "$$\n",
    "\\begin{align*}\n",
    "    P(box=1|ball=red) &= \\frac{P(ball=red|box=1)P(box=1)}{P(ball=red)} \\\\\n",
    "        &= \\frac{\\frac{3}{8}*\\frac{1}{2}}{P(ball=red)} \\\\\n",
    "        &= \\frac{\\frac{3}{16}}{P(ball=red|box=1)P(box=1) + P(ball=red|box=2)P(box=2)}  \\\\\n",
    "        &=  \\frac{\\frac{3}{16}}{\\frac{3}{8}*\\frac{1}{2} + \\frac{2}{7}*\\frac{1}{2}} \\\\\n",
    "        &= \\frac{21}{37}\n",
    "\\end{align*}\n",
    "$$"
   ]
  },
  {
   "cell_type": "markdown",
   "metadata": {},
   "source": [
    "### (b).\n",
    "\n",
    "Two balls are placed in a box as follows: A fair coin is tossed and a white ball is placed in the box if a heads occurs, otherwise a red ball is placed in the box. The coin is tossed again and a red ball is placed in the box if a tails occurs, otherwise a white ball is placed in the box. Balls are drawn from the box three times in succession (always replacing the drawn ball back in the box). It is found that on all three occasions a red ball is drawn. What is the probability that both balls in the box are red?"
   ]
  },
  {
   "attachments": {},
   "cell_type": "markdown",
   "metadata": {},
   "source": [
    "$$\n",
    "\\begin{align*}\n",
    "    P(\\text{both are red}|\\text{3 red drawn}) &= \\frac{P(\\text{3 red drawn|both are red})P(\\text{both are red})}{P(\\text{3 red drawn})} \\\\\n",
    "    &= \\frac{1*P(\\text{both are red})}{P(\\text{3 red drawn})} \\\\\n",
    "    &= \\frac{1*P(\\text{tails})P(\\text{tails})}{P(\\text{3 red drawn})} \\\\\n",
    "    &= \\frac{\\frac{1}{2} * \\frac{1}{2} }{P(\\text{3 red drawn})} \\\\\n",
    "     &= \\frac{\\frac{1}{4}}{P(\\text{3 red draw})} \\\\\n",
    "     &= \\frac{\\frac{1}{4}}{P(\\text{3 red draw | both are red})P(\\text{both are red}) + P(\\text{3 red draw | both are white})P(\\text{both are white}) + P(\\text{3 red draw | one is red and one is white})P(\\text{one is red and one is white})}\\\\\n",
    "     &= \\frac{\\frac{1}{4}}{1*P(\\text{both are red}) + 0*P(\\text{both are white}) + \\frac{1}{8}*P(\\text{one is red and one is white})} \\\\\n",
    "     &= \\frac{\\frac{1}{4}}{1*\\frac{1}{4} + 0*\\frac{1}{4} + \\frac{1}{8}*\\frac{1}{2}} \\\\\n",
    "     &= \\frac{4}{5}\n",
    "\\end{align*}\n",
    "$$"
   ]
  },
  {
   "cell_type": "markdown",
   "metadata": {},
   "source": [
    "### (c).\n",
    "A secret government agency has developed a scanner that determines whether a person is an alien imposter. The scanner detects alien imposters with 95% reliability. However, 1% of the time the test returns a false positive for an upstanding citizen. The alien imposters are very dangerous, but also quite rare, with a prevalence in the population of only 0.1%. Upon a tip from an informant, the agency has administered the scanner to a suspicious person. \n",
    "\n",
    "#### i. \n",
    "Use the *Law of Total Probability* to calculate the probability that the suspicious person will test positive.\n",
    "\n",
    "#### ii.\n",
    "What is the probability that the person is actually an alien imposter given that they do test positive?"
   ]
  },
  {
   "attachments": {},
   "cell_type": "markdown",
   "metadata": {},
   "source": [
    "p = test is positive for positive alien\n",
    "n = negative test\n",
    "A = person is not an alien\n",
    "$\\bar{A}$ = person is an alien\n",
    "\n",
    "<b>i.</b>\n",
    "\n",
    "$$\n",
    "\\begin{align*}\n",
    "    P(\\text{suspicious person will test positive}) &= P(\\text{suspicious person will test positive | alien})P(\\text{alien}) + P(\\text{suspicious person will test positive | upstanding})P(\\text{upstanding}) \\\\\n",
    "    &= (0.95)(0.001)+(0.01)(1-0.001) \\\\\n",
    "    &= 0.01094 \\\\\n",
    "    &= 1.094\\%\n",
    "\\end{align*}\n",
    "$$\n",
    "\n",
    "<b>ii.</b>\n",
    "\n",
    "$$\n",
    "\\begin{align*}\n",
    "    P(\\text{alien | test positive}) &= \\frac{P(\\text{test positive | alien})P(\\text{alien})}{P(\\text{test positive})}\\\\\n",
    "    &= \\frac{(0.95)(0.001)}{0.01094}\\\\\n",
    "    &\\approx 0.0868 \\\\\n",
    "    &= 8.68\\%\n",
    "\\end{align*}\n",
    "$$\n",
    "\n"
   ]
  }
 ],
 "metadata": {
  "kernelspec": {
   "display_name": "Python 3",
   "language": "python",
   "name": "python3"
  },
  "language_info": {
   "codemirror_mode": {
    "name": "ipython",
    "version": 3
   },
   "file_extension": ".py",
   "mimetype": "text/x-python",
   "name": "python",
   "nbconvert_exporter": "python",
   "pygments_lexer": "ipython3",
   "version": "3.9.6 (default, Sep 26 2022, 11:37:49) \n[Clang 14.0.0 (clang-1400.0.29.202)]"
  },
  "vscode": {
   "interpreter": {
    "hash": "31f2aee4e71d21fbe5cf8b01ff0e069b9275f58929596ceb00d14d90e3e16cd6"
   }
  }
 },
 "nbformat": 4,
 "nbformat_minor": 4
}
